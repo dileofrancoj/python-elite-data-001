{
 "cells": [
  {
   "cell_type": "markdown",
   "id": "d5d5256b",
   "metadata": {},
   "source": [
    "### Repaso de funciones\n",
    "\n",
    "Una función es un bloque de código reutilizable diseñado para realizar una tarea específica. Las funciones son fundamentales en la programación porque permiten organizar el código de manera lógica, mejorar su legibilidad y evitar la repetición.\n",
    "\n",
    "Tipos de funciones:\n",
    "\n",
    "- Sin argumentos (con o sin retorno de valor)\n",
    "- Con argumentos (con o sin retorno de valor)\n",
    "\n",
    "El return en las funciones sirve para comunicar el resultado al \"mundo exterior\"\n",
    "\n",
    "1) Contar elementos mayores a cierto valor\n",
    "2) Unir 2 listas sin repetir elementos\n"
   ]
  },
  {
   "cell_type": "code",
   "execution_count": 1,
   "id": "0c9d6ca2",
   "metadata": {},
   "outputs": [
    {
     "name": "stdout",
     "output_type": "stream",
     "text": [
      "['fabi', 'guille', 'fran', 'pao']\n"
     ]
    }
   ],
   "source": [
    "lista = [\"fabi\", \"guille\",\"fran\",\"pao\"]\n",
    "# Dentro de la lista hay muchos elementos\n",
    "# Quiero verificar si en la lista está el alumno fran\n",
    "print(lista)"
   ]
  },
  {
   "cell_type": "code",
   "execution_count": 8,
   "id": "6ddb61fb",
   "metadata": {},
   "outputs": [],
   "source": [
    "for elemento in lista:\n",
    "    if elemento == \"Fran\":\n",
    "        print(\"Fran está en la lista de alumnos\")"
   ]
  },
  {
   "cell_type": "code",
   "execution_count": 10,
   "id": "14d4f5d4",
   "metadata": {},
   "outputs": [],
   "source": [
    "# Unir 2 listas sin repetir elementos"
   ]
  },
  {
   "cell_type": "code",
   "execution_count": 11,
   "id": "88cb8fd2",
   "metadata": {},
   "outputs": [
    {
     "data": {
      "text/plain": [
       "[1, 5, 9, 2, 6, 9, 8]"
      ]
     },
     "execution_count": 11,
     "metadata": {},
     "output_type": "execute_result"
    }
   ],
   "source": [
    "list1 = [1,5,9]\n",
    "list2 = [2,6,9,8]\n",
    "list1 + list2"
   ]
  },
  {
   "cell_type": "code",
   "execution_count": 27,
   "id": "ef002122",
   "metadata": {},
   "outputs": [],
   "source": [
    "# una lista, una tupla, diccionarios, pasa por referencia\n",
    "def join_lists_without_duplicates(l1, l2):\n",
    "    result = []\n",
    "    for item in l1 + l2:\n",
    "        if item not in result: # if 9 not in [1,5,9,2,6]\n",
    "            result.append(item)\n",
    "        else:\n",
    "            print(\"Elemento duplicado ->\", item)\n",
    "    # print(result)\n",
    "    # comunicar la lista final al exterior de la función\n",
    "    return result\n",
    "        \n",
    "    "
   ]
  },
  {
   "cell_type": "code",
   "execution_count": 28,
   "id": "fc2a82a5",
   "metadata": {
    "scrolled": true
   },
   "outputs": [
    {
     "name": "stdout",
     "output_type": "stream",
     "text": [
      "Elemento duplicado -> 9\n"
     ]
    }
   ],
   "source": [
    "list_without_duplicates = join_lists_without_duplicates(list1, list2)"
   ]
  },
  {
   "cell_type": "code",
   "execution_count": 25,
   "id": "e0f37439",
   "metadata": {},
   "outputs": [
    {
     "name": "stdout",
     "output_type": "stream",
     "text": [
      "[1, 5, 9, 2, 6, 8]\n"
     ]
    }
   ],
   "source": [
    "print(list_without_duplicates)"
   ]
  },
  {
   "cell_type": "code",
   "execution_count": 30,
   "id": "44256f01",
   "metadata": {},
   "outputs": [
    {
     "name": "stdout",
     "output_type": "stream",
     "text": [
      "[2, 10, 18, 4, 12, 16]\n"
     ]
    }
   ],
   "source": [
    "list_dot_two = []\n",
    "for item in list_without_duplicates:\n",
    "    list_dot_two.append(item*2)\n",
    "\n",
    "print(list_dot_two)"
   ]
  },
  {
   "cell_type": "markdown",
   "id": "7c6b1f9b",
   "metadata": {},
   "source": [
    "### Pandas vs Polars\n",
    "\n",
    "Son librerias de python que se utilizan para el manejo y el análisis de datos. Características:\n",
    "- Leectura y escritura en formato (CSV, EXCEL, SQL, TXT, JSON, XML)\n",
    "- Ofrece métodos para ordenar, dividir y combinar conjuntos de datos\n",
    "- Permite trabajar con series temporales\n",
    "\n",
    "Los principales tipos de datos: \n",
    "- Series\n",
    "- Dataframes\n",
    "- Paneles (tensores) (no lo vamos a usar seguido)\n",
    "\n",
    "\n",
    "Una serie tiene la forma: \n",
    "serie = [1,2,3,4,5,6] \n",
    "\n",
    "Las series no son listas convencionales sino que por abajo funcionan con numpy\n",
    "\n",
    "dataframes = [[1,2,3],[4,5,6]]"
   ]
  },
  {
   "cell_type": "code",
   "execution_count": 38,
   "id": "63cd157c",
   "metadata": {},
   "outputs": [],
   "source": [
    "# pip | conda"
   ]
  },
  {
   "cell_type": "code",
   "execution_count": 39,
   "id": "a6f9c64e",
   "metadata": {},
   "outputs": [
    {
     "name": "stdout",
     "output_type": "stream",
     "text": [
      "Requirement already satisfied: pandas in /usr/local/lib/python3.10/site-packages (1.4.4)\n",
      "Requirement already satisfied: pytz>=2020.1 in /usr/local/lib/python3.10/site-packages (from pandas) (2022.2.1)\n",
      "Requirement already satisfied: numpy>=1.21.0 in /usr/local/lib/python3.10/site-packages (from pandas) (1.23.3)\n",
      "Requirement already satisfied: python-dateutil>=2.8.1 in /usr/local/lib/python3.10/site-packages (from pandas) (2.8.2)\n",
      "Requirement already satisfied: six>=1.5 in /usr/local/lib/python3.10/site-packages (from python-dateutil>=2.8.1->pandas) (1.16.0)\n",
      "\n",
      "\u001b[1m[\u001b[0m\u001b[34;49mnotice\u001b[0m\u001b[1;39;49m]\u001b[0m\u001b[39;49m A new release of pip is available: \u001b[0m\u001b[31;49m23.0.1\u001b[0m\u001b[39;49m -> \u001b[0m\u001b[32;49m24.3.1\u001b[0m\n",
      "\u001b[1m[\u001b[0m\u001b[34;49mnotice\u001b[0m\u001b[1;39;49m]\u001b[0m\u001b[39;49m To update, run: \u001b[0m\u001b[32;49mpython3.10 -m pip install --upgrade pip\u001b[0m\n",
      "Note: you may need to restart the kernel to use updated packages.\n"
     ]
    }
   ],
   "source": [
    "pip install pandas"
   ]
  },
  {
   "cell_type": "code",
   "execution_count": 40,
   "id": "30bfe0c7",
   "metadata": {},
   "outputs": [
    {
     "name": "stdout",
     "output_type": "stream",
     "text": [
      "Requirement already satisfied: polars in /usr/local/lib/python3.10/site-packages (1.4.1)\n",
      "\n",
      "\u001b[1m[\u001b[0m\u001b[34;49mnotice\u001b[0m\u001b[1;39;49m]\u001b[0m\u001b[39;49m A new release of pip is available: \u001b[0m\u001b[31;49m23.0.1\u001b[0m\u001b[39;49m -> \u001b[0m\u001b[32;49m24.3.1\u001b[0m\n",
      "\u001b[1m[\u001b[0m\u001b[34;49mnotice\u001b[0m\u001b[1;39;49m]\u001b[0m\u001b[39;49m To update, run: \u001b[0m\u001b[32;49mpython3.10 -m pip install --upgrade pip\u001b[0m\n",
      "Note: you may need to restart the kernel to use updated packages.\n"
     ]
    }
   ],
   "source": [
    "# pip install polars\n",
    "# pip install scipy"
   ]
  }
 ],
 "metadata": {
  "kernelspec": {
   "display_name": "Python 3 (ipykernel)",
   "language": "python",
   "name": "python3"
  },
  "language_info": {
   "codemirror_mode": {
    "name": "ipython",
    "version": 3
   },
   "file_extension": ".py",
   "mimetype": "text/x-python",
   "name": "python",
   "nbconvert_exporter": "python",
   "pygments_lexer": "ipython3",
   "version": "3.10.11"
  }
 },
 "nbformat": 4,
 "nbformat_minor": 5
}
