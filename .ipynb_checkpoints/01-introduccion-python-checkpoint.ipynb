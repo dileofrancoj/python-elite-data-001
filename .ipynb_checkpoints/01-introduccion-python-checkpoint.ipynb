{
 "cells": [
  {
   "cell_type": "markdown",
   "id": "741b59c0",
   "metadata": {},
   "source": [
    "# Bienvenid@s al acelerador de carrera\n",
    "\n",
    "## Clase 01 - Introducción a Python\n",
    "\n",
    "$ \\hat{y} = AX + x_0 + \\Sigma_{i=1} n^i$"
   ]
  },
  {
   "cell_type": "code",
   "execution_count": 18,
   "id": "ee1fe474",
   "metadata": {},
   "outputs": [],
   "source": [
    "name = \"Franco\" # string o cadena de texto\n",
    "age = 30 # valor entero\n",
    "sunny_day = True # booleano / verdadero o falso"
   ]
  },
  {
   "cell_type": "code",
   "execution_count": 16,
   "id": "5e3cb8bc",
   "metadata": {},
   "outputs": [],
   "source": [
    "height = 1.8"
   ]
  },
  {
   "cell_type": "code",
   "execution_count": 20,
   "id": "a3f0bca0",
   "metadata": {},
   "outputs": [
    {
     "data": {
      "text/plain": [
       "str"
      ]
     },
     "execution_count": 20,
     "metadata": {},
     "output_type": "execute_result"
    }
   ],
   "source": [
    "type(name) # string"
   ]
  },
  {
   "cell_type": "code",
   "execution_count": 21,
   "id": "ac6f43ff",
   "metadata": {},
   "outputs": [
    {
     "data": {
      "text/plain": [
       "int"
      ]
     },
     "execution_count": 21,
     "metadata": {},
     "output_type": "execute_result"
    }
   ],
   "source": [
    "type(age)"
   ]
  },
  {
   "cell_type": "code",
   "execution_count": 22,
   "id": "682a4489",
   "metadata": {},
   "outputs": [
    {
     "data": {
      "text/plain": [
       "bool"
      ]
     },
     "execution_count": 22,
     "metadata": {},
     "output_type": "execute_result"
    }
   ],
   "source": [
    "type(sunny_day)"
   ]
  },
  {
   "cell_type": "code",
   "execution_count": 23,
   "id": "4ac07be6",
   "metadata": {},
   "outputs": [
    {
     "data": {
      "text/plain": [
       "float"
      ]
     },
     "execution_count": 23,
     "metadata": {},
     "output_type": "execute_result"
    }
   ],
   "source": [
    "type(height)"
   ]
  },
  {
   "cell_type": "code",
   "execution_count": 31,
   "id": "6ca671f9",
   "metadata": {},
   "outputs": [],
   "source": [
    "name = \"Fabi\""
   ]
  },
  {
   "cell_type": "code",
   "execution_count": 28,
   "id": "a15d6ffc",
   "metadata": {},
   "outputs": [
    {
     "ename": "TypeError",
     "evalue": "'str' object is not callable",
     "output_type": "error",
     "traceback": [
      "\u001b[0;31m---------------------------------------------------------------------------\u001b[0m",
      "\u001b[0;31mTypeError\u001b[0m                                 Traceback (most recent call last)",
      "Cell \u001b[0;32mIn[28], line 1\u001b[0m\n\u001b[0;32m----> 1\u001b[0m \u001b[38;5;28;43mprint\u001b[39;49m\u001b[43m(\u001b[49m\u001b[38;5;28;43mprint\u001b[39;49m\u001b[43m)\u001b[49m\n",
      "\u001b[0;31mTypeError\u001b[0m: 'str' object is not callable"
     ]
    }
   ],
   "source": []
  },
  {
   "cell_type": "code",
   "execution_count": null,
   "id": "e942db41",
   "metadata": {},
   "outputs": [],
   "source": []
  },
  {
   "cell_type": "code",
   "execution_count": null,
   "id": "130da946",
   "metadata": {},
   "outputs": [],
   "source": []
  }
 ],
 "metadata": {
  "kernelspec": {
   "display_name": "Python 3 (ipykernel)",
   "language": "python",
   "name": "python3"
  },
  "language_info": {
   "codemirror_mode": {
    "name": "ipython",
    "version": 3
   },
   "file_extension": ".py",
   "mimetype": "text/x-python",
   "name": "python",
   "nbconvert_exporter": "python",
   "pygments_lexer": "ipython3",
   "version": "3.10.11"
  }
 },
 "nbformat": 4,
 "nbformat_minor": 5
}
