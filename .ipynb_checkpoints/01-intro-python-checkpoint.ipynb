{
 "cells": [
  {
   "cell_type": "code",
   "execution_count": 2,
   "id": "023d1842",
   "metadata": {},
   "outputs": [],
   "source": [
    "name = \"Franco\" # string o cadena de texto\n",
    "age = 30 # valor entero\n",
    "sunny_day = True # booleano / verdadero o falso"
   ]
  },
  {
   "cell_type": "code",
   "execution_count": 31,
   "id": "79849bea",
   "metadata": {},
   "outputs": [],
   "source": [
    "height = 1.8"
   ]
  },
  {
   "cell_type": "code",
   "execution_count": 8,
   "id": "9eb7bbe8",
   "metadata": {},
   "outputs": [
    {
     "name": "stdout",
     "output_type": "stream",
     "text": [
      "Hola mundo !\n"
     ]
    }
   ],
   "source": [
    "print(\"Hola mundo !\")"
   ]
  },
  {
   "cell_type": "markdown",
   "id": "05049d4c",
   "metadata": {},
   "source": [
    "### Concatenar\n",
    "\n",
    "Unir n elementos"
   ]
  },
  {
   "cell_type": "code",
   "execution_count": 11,
   "id": "b17de22b",
   "metadata": {},
   "outputs": [
    {
     "name": "stdout",
     "output_type": "stream",
     "text": [
      "Me llamo Franco\n"
     ]
    }
   ],
   "source": [
    "print(\"Me llamo \" + name)"
   ]
  },
  {
   "cell_type": "code",
   "execution_count": 14,
   "id": "740ae679",
   "metadata": {},
   "outputs": [
    {
     "name": "stdout",
     "output_type": "stream",
     "text": [
      "Tengo 30 años\n"
     ]
    }
   ],
   "source": [
    "print(\"Tengo\", age, \"años\")"
   ]
  },
  {
   "cell_type": "code",
   "execution_count": 18,
   "id": "6a841711",
   "metadata": {},
   "outputs": [
    {
     "ename": "TypeError",
     "evalue": "can only concatenate str (not \"int\") to str",
     "output_type": "error",
     "traceback": [
      "\u001b[0;31m---------------------------------------------------------------------------\u001b[0m",
      "\u001b[0;31mTypeError\u001b[0m                                 Traceback (most recent call last)",
      "Cell \u001b[0;32mIn[18], line 1\u001b[0m\n\u001b[0;32m----> 1\u001b[0m \u001b[38;5;28mprint\u001b[39m(\u001b[38;5;124;43m\"\u001b[39;49m\u001b[38;5;124;43mTengo\u001b[39;49m\u001b[38;5;124;43m\"\u001b[39;49m\u001b[43m \u001b[49m\u001b[38;5;241;43m+\u001b[39;49m\u001b[43m \u001b[49m\u001b[43mage\u001b[49m \u001b[38;5;241m+\u001b[39m \u001b[38;5;124m\"\u001b[39m\u001b[38;5;124maños\u001b[39m\u001b[38;5;124m\"\u001b[39m)\n",
      "\u001b[0;31mTypeError\u001b[0m: can only concatenate str (not \"int\") to str"
     ]
    }
   ],
   "source": [
    "print(\"Tengo\" + age + \"años\")"
   ]
  },
  {
   "cell_type": "code",
   "execution_count": 30,
   "id": "bdd9f571",
   "metadata": {},
   "outputs": [
    {
     "name": "stdout",
     "output_type": "stream",
     "text": [
      "Tengo 30 años\n"
     ]
    }
   ],
   "source": [
    "texto = \"Tengo \" + str(age) + \" años\"\n",
    "print(texto)"
   ]
  },
  {
   "cell_type": "code",
   "execution_count": 26,
   "id": "3bf761fd",
   "metadata": {},
   "outputs": [],
   "source": [
    "palabra1 = \"Holis\"\n",
    "palabra2 = \"pruebas\""
   ]
  },
  {
   "cell_type": "code",
   "execution_count": 27,
   "id": "47e82440",
   "metadata": {},
   "outputs": [],
   "source": [
    "resultado = palabra1 + palabra2"
   ]
  },
  {
   "cell_type": "code",
   "execution_count": 28,
   "id": "37a991f6",
   "metadata": {},
   "outputs": [
    {
     "name": "stdout",
     "output_type": "stream",
     "text": [
      "Holispruebas\n"
     ]
    }
   ],
   "source": [
    "print(resultado)"
   ]
  },
  {
   "cell_type": "markdown",
   "id": "aff450e3",
   "metadata": {},
   "source": [
    "### Casteo de variables\n",
    "\n",
    "Castear: convertir de un tipo de dato a otro (en la medida que sea posible)"
   ]
  },
  {
   "cell_type": "code",
   "execution_count": 36,
   "id": "60e9172d",
   "metadata": {},
   "outputs": [
    {
     "name": "stdout",
     "output_type": "stream",
     "text": [
      "<class 'int'>\n",
      "<class 'str'>\n",
      "<class 'float'>\n",
      "<class 'int'>\n"
     ]
    }
   ],
   "source": [
    "edad_fer = 30\n",
    "print(type(edad_fer)) # int\n",
    "edad_fer = str(edad_fer) # cambiamos el tipo de dato a string\n",
    "print(type(edad_fer)) # class 'str'\n",
    "edad_fer = float(edad_fer) # flotante\n",
    "print(type(edad_fer)) # class 'float'\n",
    "edad_fer = int(edad_fer)\n",
    "print(type(edad_fer)) # class 'float'"
   ]
  },
  {
   "cell_type": "code",
   "execution_count": 67,
   "id": "416e03ab",
   "metadata": {},
   "outputs": [
    {
     "name": "stdout",
     "output_type": "stream",
     "text": [
      "hasta acá ok\n"
     ]
    },
    {
     "ename": "ValueError",
     "evalue": "could not convert string to float: 'Fer'",
     "output_type": "error",
     "traceback": [
      "\u001b[0;31m---------------------------------------------------------------------------\u001b[0m",
      "\u001b[0;31mValueError\u001b[0m                                Traceback (most recent call last)",
      "Cell \u001b[0;32mIn[67], line 3\u001b[0m\n\u001b[1;32m      1\u001b[0m name \u001b[38;5;241m=\u001b[39m \u001b[38;5;124m\"\u001b[39m\u001b[38;5;124mFer\u001b[39m\u001b[38;5;124m\"\u001b[39m \u001b[38;5;66;03m# str\u001b[39;00m\n\u001b[1;32m      2\u001b[0m \u001b[38;5;28mprint\u001b[39m(\u001b[38;5;124m\"\u001b[39m\u001b[38;5;124mhasta acá ok\u001b[39m\u001b[38;5;124m\"\u001b[39m)\n\u001b[0;32m----> 3\u001b[0m name_int \u001b[38;5;241m=\u001b[39m \u001b[38;5;28;43mfloat\u001b[39;49m\u001b[43m(\u001b[49m\u001b[43mname\u001b[49m\u001b[43m)\u001b[49m\n",
      "\u001b[0;31mValueError\u001b[0m: could not convert string to float: 'Fer'"
     ]
    }
   ],
   "source": [
    "name = \"Fer\" # str\n",
    "print(\"hasta acá ok\")\n",
    "name_int = float(name)"
   ]
  },
  {
   "cell_type": "code",
   "execution_count": 44,
   "id": "c3510195",
   "metadata": {},
   "outputs": [],
   "source": [
    "# esto es un comentario\n",
    "# un comentario explica una funcionalidad, una linea de código, etc."
   ]
  },
  {
   "cell_type": "code",
   "execution_count": 45,
   "id": "59770a1c",
   "metadata": {},
   "outputs": [
    {
     "data": {
      "text/plain": [
       "'\\nEste es un comentario de muchas lineas\\nen mi codigo\\npara no olvidarme que hace esto :D \\n'"
      ]
     },
     "execution_count": 45,
     "metadata": {},
     "output_type": "execute_result"
    }
   ],
   "source": [
    "\"\"\"\n",
    "Este es un comentario de muchas lineas\n",
    "en mi codigo\n",
    "para no olvidarme que hace esto :D \n",
    "\"\"\""
   ]
  },
  {
   "cell_type": "code",
   "execution_count": 49,
   "id": "6b7169d4",
   "metadata": {},
   "outputs": [],
   "source": [
    "num1 = 10\n",
    "num2 = 1.41\n",
    "num3 = 25\n",
    "num4 = 73\n",
    "# la suma entre num1 y num2 es (num1 + num2)"
   ]
  },
  {
   "cell_type": "code",
   "execution_count": 62,
   "id": "166aa3fe",
   "metadata": {},
   "outputs": [
    {
     "name": "stdout",
     "output_type": "stream",
     "text": [
      "La suma entre  10 + 1.41 es 11.41\n",
      "El cociente entre 25 y 1.41 es 17.73049645390071\n",
      "La diferencia entre 25 y 10 es 15\n",
      "10 elevado a 1.41 es: 25.703957827688633\n",
      "10 por 1.41 es: 14.1\n"
     ]
    }
   ],
   "source": [
    "print(\"La suma entre \", num1, \"+\", num2, \"es\", num1 + num2)\n",
    "print(\"El cociente entre\", num3 , \"y\", num2, \"es\", num3/num2)\n",
    "print(f\"La diferencia entre {num3} y {num1} es {num3-num1}\")\n",
    "print(f\"{num1} elevado a {num2} es: {num1**num2}\")\n",
    "print(f\"{num1} por {num2} es: {num1*num2}\")"
   ]
  },
  {
   "cell_type": "code",
   "execution_count": 64,
   "id": "227f580b",
   "metadata": {},
   "outputs": [
    {
     "data": {
      "text/plain": [
       "True"
      ]
     },
     "execution_count": 64,
     "metadata": {},
     "output_type": "execute_result"
    }
   ],
   "source": [
    "\"fran\" in \"frances\" # Boolean"
   ]
  },
  {
   "cell_type": "code",
   "execution_count": 68,
   "id": "2391cbbc",
   "metadata": {},
   "outputs": [
    {
     "data": {
      "text/plain": [
       "bool"
      ]
     },
     "execution_count": 68,
     "metadata": {},
     "output_type": "execute_result"
    }
   ],
   "source": [
    "isFabiInCamil = \"Fabi\" in \"Camila\"\n",
    "type(isFabiInCamil)"
   ]
  },
  {
   "cell_type": "code",
   "execution_count": 69,
   "id": "bfd7bfd1",
   "metadata": {},
   "outputs": [],
   "source": [
    "import pandas as pd"
   ]
  },
  {
   "cell_type": "code",
   "execution_count": null,
   "id": "dcabbe45",
   "metadata": {},
   "outputs": [],
   "source": []
  }
 ],
 "metadata": {
  "kernelspec": {
   "display_name": "Python 3 (ipykernel)",
   "language": "python",
   "name": "python3"
  },
  "language_info": {
   "codemirror_mode": {
    "name": "ipython",
    "version": 3
   },
   "file_extension": ".py",
   "mimetype": "text/x-python",
   "name": "python",
   "nbconvert_exporter": "python",
   "pygments_lexer": "ipython3",
   "version": "3.10.11"
  }
 },
 "nbformat": 4,
 "nbformat_minor": 5
}
