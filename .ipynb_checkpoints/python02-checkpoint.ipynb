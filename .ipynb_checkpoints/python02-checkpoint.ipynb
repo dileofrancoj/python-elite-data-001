{
 "cells": [
  {
   "cell_type": "markdown",
   "id": "40c712b6",
   "metadata": {},
   "source": [
    "### Clase 02\n",
    "\n",
    "- Tarea clase 1\n",
    "- Arrays / Listas\n",
    "- Condicionales\n",
    "- Iteraciones (parte 1)\n",
    "- Diccionarios\n",
    "- Tarea clase 2"
   ]
  },
  {
   "cell_type": "markdown",
   "id": "c529c290",
   "metadata": {},
   "source": [
    "### Tarea clase 1\n",
    "\n",
    "1. Definir 3 variables (product1, product2, product3) que representen los distintos productos o SKU de un ecommernce y los precios de los mismos (price1, price2, price3)\n",
    "\n",
    "2. Imprimir en pantalla un mensaje con un texto que indique la promocion de que comprando el producto 1 y el producto 2 se llevarán gratis el producto 3 (e imprimir su precio)\n",
    "\n",
    "3. Define una constante llamada “GRAVITY”, definí una variable “b” y asignale el valor de la constante GRAVITY\n",
    "\n",
    "4. Escribe un programa que solicite al usuario 3 números y muestre la suma en pantalla\n",
    "\n",
    "5. Define diferentes variables con los tipos de datos básicos de python: Entero, flotante, texto y booleano e imprimí cada variable en pantalla"
   ]
  },
  {
   "cell_type": "markdown",
   "id": "53782a86",
   "metadata": {},
   "source": [
    "### Entregable del módulo Python\n",
    "\n",
    "- Análisis exploratorio (basico) (2 o 3 datasets de sugerencias) (Kaggle)\n",
    "    - Hipótesis (preguntas de negocio)\n",
    "    - Python + Polars + Matplotlib"
   ]
  },
  {
   "cell_type": "markdown",
   "id": "3d3e317e",
   "metadata": {},
   "source": [
    "### Manejo básico de exceptions \n",
    "```python\n",
    "    try:\n",
    "        # bloque de codigo\n",
    "    except:\n",
    "        # bloque de codigo en catch\n",
    "```"
   ]
  },
  {
   "cell_type": "code",
   "execution_count": 15,
   "id": "bfd33f74",
   "metadata": {},
   "outputs": [
    {
     "name": "stdout",
     "output_type": "stream",
     "text": [
      "Ingresa el primer número: 20\n",
      "Ingresa el segundo número: 40\n",
      "Ingresa el tercer número: 20\n",
      "La suma de los tres números es: 80.0\n"
     ]
    }
   ],
   "source": [
    "try:\n",
    "    num1 = float(input(\"Ingresa el primer número: \"))\n",
    "    num2 = float(input(\"Ingresa el segundo número: \"))\n",
    "    num3 = float(input(\"Ingresa el tercer número: \"))\n",
    "    suma = num1 + num2 + num3 # \"20\" + \"40\" + \"100\" -> 2040100\n",
    "    print(f\"La suma de los tres números es: {suma}\") # fixed()\n",
    "except:\n",
    "    print(\"Hubo un error\")\n",
    "    print(\"Por favor ingresa de nuevo los numeros\")"
   ]
  },
  {
   "cell_type": "markdown",
   "id": "35ec2e70",
   "metadata": {},
   "source": [
    "### Arrays / Vectores / Listas\n",
    "\n",
    "Una variable que puede tener varios valores de igual o distinto tipo al mismo tiempo. Contiguas en la memoria RAM"
   ]
  },
  {
   "cell_type": "code",
   "execution_count": 47,
   "id": "fcd09f20",
   "metadata": {},
   "outputs": [],
   "source": [
    "nombres = [\"Franco\", \"Fabi\", \"Mariel\", \"Sonia\", \"Sabri\", \"Pepe :P\", \"Ivana\"] # type(nombres) --> list"
   ]
  },
  {
   "cell_type": "code",
   "execution_count": 18,
   "id": "d8517479",
   "metadata": {},
   "outputs": [
    {
     "data": {
      "text/plain": [
       "list"
      ]
     },
     "execution_count": 18,
     "metadata": {},
     "output_type": "execute_result"
    }
   ],
   "source": [
    "type(nombres)"
   ]
  },
  {
   "cell_type": "code",
   "execution_count": 19,
   "id": "8d567b05",
   "metadata": {},
   "outputs": [],
   "source": [
    "fran = [\"Franco\", 30.7, [\"Amazonas (Chona)\", \"Perla\"], [\"Pedidos YA\", \"LVL UP\"], True] # Diccionarios"
   ]
  },
  {
   "cell_type": "code",
   "execution_count": 23,
   "id": "abe0acb9",
   "metadata": {},
   "outputs": [
    {
     "data": {
      "text/plain": [
       "['Franco', 30.7, ['Amazonas (Chona)', 'Perla'], ['Pedidos YA', 'LVL UP'], True]"
      ]
     },
     "execution_count": 23,
     "metadata": {},
     "output_type": "execute_result"
    }
   ],
   "source": [
    "fran"
   ]
  },
  {
   "cell_type": "markdown",
   "id": "6a291fca",
   "metadata": {},
   "source": [
    "### Funciones asociadas a listas\n",
    "```python\n",
    "    len(lista)\n",
    "```"
   ]
  },
  {
   "cell_type": "code",
   "execution_count": 48,
   "id": "3707d21b",
   "metadata": {},
   "outputs": [
    {
     "name": "stdout",
     "output_type": "stream",
     "text": [
      "La cantidad de elementos que tiene ['Franco', 'Fabi', 'Mariel', 'Sonia', 'Sabri', 'Pepe :P', 'Ivana'] es 7\n"
     ]
    }
   ],
   "source": [
    "lenNombres = len(nombres)\n",
    "print(f\"La cantidad de elementos que tiene {nombres} es {lenNombres}\") # f string"
   ]
  },
  {
   "cell_type": "code",
   "execution_count": 40,
   "id": "ef4c8740",
   "metadata": {},
   "outputs": [
    {
     "name": "stdout",
     "output_type": "stream",
     "text": [
      "La cantidad de elementos que tiene ['Franco', 'Fabi', 'Mariel', 'Sonia', 'Sabri', 'Pepe :P'] es 6\n"
     ]
    }
   ],
   "source": [
    "# concatenando :(\n",
    "print(\"La cantidad de elementos que tiene\", nombres, \"es\", len(nombres))"
   ]
  },
  {
   "cell_type": "code",
   "execution_count": 42,
   "id": "df8c443f",
   "metadata": {},
   "outputs": [
    {
     "name": "stdout",
     "output_type": "stream",
     "text": [
      "El primer elemento de nombres es: Franco, el segundo es Fabi el ultimo nombre es Pepe :P \n"
     ]
    }
   ],
   "source": [
    "# Ejercicio: Imprimir el 1er, 2do y último elemento de la lista nombres\n",
    "print(f\"El primer elemento de nombres es: {nombres[0]}, el segundo es {nombres[1]} el ultimo nombre es {nombres[5]} \")"
   ]
  },
  {
   "cell_type": "code",
   "execution_count": 50,
   "id": "f640520a",
   "metadata": {},
   "outputs": [
    {
     "name": "stdout",
     "output_type": "stream",
     "text": [
      "6\n",
      "Ivana\n"
     ]
    }
   ],
   "source": [
    "# La forma \"correcta\" de acceder al último elemento de una lista es buscando dinámicamente la posicion del elemento\n",
    "lastNameItem = len(nombres) - 1 # 6\n",
    "print(lastNameItem)\n",
    "print(nombres[lastNameItem])"
   ]
  },
  {
   "cell_type": "code",
   "execution_count": 57,
   "id": "8a6342a8",
   "metadata": {},
   "outputs": [
    {
     "name": "stdout",
     "output_type": "stream",
     "text": [
      "el último elemento de la lista es Ivana\n"
     ]
    }
   ],
   "source": [
    "print(f\"el último elemento de la lista es {nombres[-1]}\") # [-1] indica que es el último elemento de la lista"
   ]
  },
  {
   "cell_type": "code",
   "execution_count": 59,
   "id": "403fdc0d",
   "metadata": {},
   "outputs": [],
   "source": [
    "# nombres = [\"Franco\", \"Fabi\", \"Mariel\", \"Sonia\", \"Sabri\", \"Pepe :P\", \"Ivana\"] # type(nombres) --> list\n",
    "hobbies = [\"Estudiar y entrenar :(\", \"Volar y Nadar\", \"Leer\", \"Leer y cantar\", \"Salta salta\", \"Jugar al padel\"]"
   ]
  },
  {
   "cell_type": "code",
   "execution_count": 63,
   "id": "49be455f",
   "metadata": {},
   "outputs": [],
   "source": [
    "# listas paralelas: Son litas que tienen una correspondencia uno a uno (en posicion) y tiene que tener la misma cantidad de elementos"
   ]
  },
  {
   "cell_type": "markdown",
   "id": "e8bf89bd",
   "metadata": {},
   "source": [
    "### Iteraciones de listas / Slicing\n",
    "lista[a:b]\n",
    "\n",
    "print(nombres[2:5])\n",
    "\n",
    "Recorre los elementos de la lista desde la posicion \"a\" del vector (arrancando en 0) hasta la posición 4 (incluida)"
   ]
  },
  {
   "cell_type": "code",
   "execution_count": 67,
   "id": "8f7f7dd0",
   "metadata": {},
   "outputs": [
    {
     "name": "stdout",
     "output_type": "stream",
     "text": [
      "['Mariel', 'Sonia', 'Sabri', 'Pepe :P']\n",
      "['Leer', 'Leer y cantar', 'Salta salta']\n"
     ]
    }
   ],
   "source": [
    "print(nombres[2:-1])\n",
    "print(hobbies[2:5])"
   ]
  },
  {
   "cell_type": "code",
   "execution_count": 83,
   "id": "dc594d7d",
   "metadata": {},
   "outputs": [
    {
     "name": "stdout",
     "output_type": "stream",
     "text": [
      "['Franco', 'Fabi', 'Mariel', 'Sonia', 'Sabri', 'Pepe :P', 'Ivana']\n",
      "['Franco', 'Sabri']\n",
      "['Estudiar y entrenar :(', 'Salta salta']\n"
     ]
    }
   ],
   "source": [
    "print(nombres)\n",
    "print(nombres[::4])\n",
    "print(hobbies[::4])"
   ]
  },
  {
   "cell_type": "code",
   "execution_count": 93,
   "id": "e57f66d0",
   "metadata": {},
   "outputs": [
    {
     "name": "stdout",
     "output_type": "stream",
     "text": [
      "Esa posición no tiene datos\n"
     ]
    }
   ],
   "source": [
    "try:\n",
    "    print(f\"Intentando acceder a la posición 10 de nombres\", nombres[10])\n",
    "except:\n",
    "    print(\"Esa posición no tiene datos\")"
   ]
  },
  {
   "cell_type": "code",
   "execution_count": 98,
   "id": "5f48444d",
   "metadata": {},
   "outputs": [
    {
     "name": "stdout",
     "output_type": "stream",
     "text": [
      "Prueba\n"
     ]
    }
   ],
   "source": [
    "append = \"Prueba\"\n",
    "print(append)"
   ]
  },
  {
   "cell_type": "code",
   "execution_count": 102,
   "id": "eb1a6b5e",
   "metadata": {},
   "outputs": [],
   "source": [
    "# append es un método de listas\n",
    "nombres.append(\"Ceci\") # agregar a la última posicion del vector el valor entre ()"
   ]
  },
  {
   "cell_type": "code",
   "execution_count": 90,
   "id": "f40ec1ec",
   "metadata": {},
   "outputs": [
    {
     "data": {
      "text/plain": [
       "'Ceci'"
      ]
     },
     "execution_count": 90,
     "metadata": {},
     "output_type": "execute_result"
    }
   ],
   "source": [
    "nombres[-1]"
   ]
  },
  {
   "cell_type": "code",
   "execution_count": 104,
   "id": "0ccd6e5a",
   "metadata": {},
   "outputs": [
    {
     "data": {
      "text/plain": [
       "'Ceci'"
      ]
     },
     "execution_count": 104,
     "metadata": {},
     "output_type": "execute_result"
    }
   ],
   "source": [
    "# Eliminar elementos de un vector .pop()\n",
    "nombres.pop()"
   ]
  },
  {
   "cell_type": "code",
   "execution_count": 107,
   "id": "739b8ff9",
   "metadata": {},
   "outputs": [
    {
     "data": {
      "text/plain": [
       "['Franco', 'Fabi', 'Mariel', 'Sonia', 'Sabri', 'Pepe :P', 'Ivana', 'Ceci']"
      ]
     },
     "execution_count": 107,
     "metadata": {},
     "output_type": "execute_result"
    }
   ],
   "source": [
    "# nombres"
   ]
  },
  {
   "cell_type": "markdown",
   "id": "78a1c7a8",
   "metadata": {},
   "source": [
    "### Estructuras Condicionales (if, else, elif)\n",
    "\n",
    "Es una estructura de programación que nos permite \"ramificar\" nuestro programa evaluando una condición (booleana) específica.\n",
    "\n",
    "Operadores de comparación\n",
    "    - >\n",
    "    - >=\n",
    "    - <\n",
    "    - <=\n",
    "    - == comparacion\n",
    "    - != (<>) no igual \"not\""
   ]
  },
  {
   "cell_type": "code",
   "execution_count": null,
   "id": "965f81d5",
   "metadata": {},
   "outputs": [],
   "source": [
    "# Constante en mayuscula\n",
    "TALL = 1.80\n",
    "try:\n",
    "    name = input(\"Ingresa tu nombre\")\n",
    "    height = float(input(\"Ingresa tu altura\"))\n",
    "    if height > TALL: # si se cumple la condicion, se ejecuta el bloque\n",
    "        print(f\"{name} es consider@ alt@\")\n",
    "    else:\n",
    "        print(f\"{name} mide 1.80 o menos\")\n",
    "    print(\"Termina el bloque condicional y el try\")\n",
    "except:\n",
    "    print(\"La altura ingresada debe ser un número\")"
   ]
  },
  {
   "cell_type": "code",
   "execution_count": null,
   "id": "4da860cb",
   "metadata": {},
   "outputs": [],
   "source": [
    "1.75 > 1.80\n"
   ]
  }
 ],
 "metadata": {
  "kernelspec": {
   "display_name": "Python 3 (ipykernel)",
   "language": "python",
   "name": "python3"
  },
  "language_info": {
   "codemirror_mode": {
    "name": "ipython",
    "version": 3
   },
   "file_extension": ".py",
   "mimetype": "text/x-python",
   "name": "python",
   "nbconvert_exporter": "python",
   "pygments_lexer": "ipython3",
   "version": "3.10.11"
  }
 },
 "nbformat": 4,
 "nbformat_minor": 5
}
