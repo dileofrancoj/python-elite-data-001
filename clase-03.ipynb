{
 "cells": [
  {
   "cell_type": "markdown",
   "id": "13ec75df",
   "metadata": {},
   "source": [
    "### **1. Contar elementos positivos**\n",
    "\n",
    "Dada una lista de números, escribe un programa que cuente cuántos elementos son positivos.\n",
    "\n",
    "**Ejemplo:**\n",
    "\n",
    "nums = [-3, 5, 0, 7, -1, 8]\n",
    "\n",
    "Salida: 3\n",
    "\n",
    "### **2. Encontrar el mayor número impar**\n",
    "\n",
    "Dada una lista de números, encuentra el mayor número impar. Si no hay números impares, devuelve None (None representa un valor Nulo)\n",
    "\n",
    "**Ejemplo:**\n",
    "\n",
    "nums = [2, 4, 7, 10, 15, 6]\n",
    "\n",
    "Salida: 15\n",
    "\n",
    "### **4. Sumar números pares**\n",
    "\n",
    "Dada una lista de números, calcula la suma de todos los números pares.\n",
    "\n",
    "**Ejemplo:**\n",
    "\n",
    "nums = [3, 4, 6, 7, 9, 12]\n",
    "\n",
    "Salida: 22\n",
    "\n",
    "### 7. Mostrar un vector con las palabras que tienen mas de 4 letras\n",
    "\n",
    "words = [\"hola\", \"mundo\", \"python\", \"es\", \"genial\"]\n",
    "\n",
    "Salida: [\"mundo\", \"python\", \"genial\"]"
   ]
  },
  {
   "cell_type": "code",
   "execution_count": 2,
   "id": "229dc0ff",
   "metadata": {},
   "outputs": [
    {
     "data": {
      "text/plain": [
       "'\\nDada una lista de números, escribe un programa que cuente cuántos elementos son positivos.\\n\\nEjemplo:\\n\\nnums = [-3, 5, 0, 7, -1, 8]\\n\\nSalida: 3\\n'"
      ]
     },
     "execution_count": 2,
     "metadata": {},
     "output_type": "execute_result"
    }
   ],
   "source": [
    "\"\"\"\n",
    "Dada una lista de números, escribe un programa que cuente cuántos elementos son positivos.\n",
    "\n",
    "Ejemplo:\n",
    "\n",
    "nums = [-3, 5, 0, 7, -1, 8]\n",
    "\n",
    "Salida: 3\n",
    "\"\"\""
   ]
  },
  {
   "cell_type": "code",
   "execution_count": 4,
   "id": "53aae5e6",
   "metadata": {},
   "outputs": [],
   "source": []
  },
  {
   "cell_type": "markdown",
   "id": "f97432b8",
   "metadata": {},
   "source": [
    "### Bucle o ciclo\n",
    "\n",
    "Mecanismo repetitivo para acceder a elementos de una colección de datos"
   ]
  },
  {
   "cell_type": "code",
   "execution_count": 12,
   "id": "772259f0",
   "metadata": {},
   "outputs": [
    {
     "name": "stdout",
     "output_type": "stream",
     "text": [
      "Numeros mayores a cero: 3\n"
     ]
    }
   ],
   "source": [
    "# for a in b\n",
    "# num es una variable temporal\n",
    "# num va almacenar para cada elemento del vector, el valor actual\n",
    "\n",
    "\n",
    "nums = [-3, 5, 0, 7, -1, 8]\n",
    "# contador\n",
    "numeros_mayores_a_cero = 0\n",
    "for num in nums:\n",
    "    # en la primera vuelta num = -3\n",
    "    # en la segunda iteración num = 5\n",
    "    # en la tercera vuelta num = 0\n",
    "    # ...\n",
    "    # num = 8\n",
    "    if num > 0:\n",
    "        # print(num)\n",
    "        numeros_mayores_a_cero = numeros_mayores_a_cero + 1\n",
    "        # print(\"numeros mayores a cero -> \",numeros_mayores_a_cero)\n",
    "\n",
    "print(\"Numeros mayores a cero:\", numeros_mayores_a_cero)"
   ]
  },
  {
   "cell_type": "code",
   "execution_count": 13,
   "id": "01be8b27",
   "metadata": {},
   "outputs": [
    {
     "data": {
      "text/plain": [
       "'\\nDada una lista de números, encuentra el mayor número impar. Si no hay números impares, devuelve None (None representa un valor Nulo)\\n\\nEjemplo:\\n\\nnums = [2, 4, 7, 10, 15, 6]\\n\\nSalida: 15\\n'"
      ]
     },
     "execution_count": 13,
     "metadata": {},
     "output_type": "execute_result"
    }
   ],
   "source": [
    "\"\"\"\n",
    "Dada una lista de números, encuentra el mayor número impar. Si no hay números impares, devuelve None (None representa un valor Nulo)\n",
    "\n",
    "Ejemplo:\n",
    "\n",
    "nums = [2, 4, 7, 10, 15, 6]\n",
    "\n",
    "Salida: 15\n",
    "\"\"\"\n",
    "# NULL == None"
   ]
  },
  {
   "cell_type": "code",
   "execution_count": 40,
   "id": "106b7350",
   "metadata": {},
   "outputs": [
    {
     "name": "stdout",
     "output_type": "stream",
     "text": [
      "La lista de elementos impares es:  [7, 15, 9, 21, 41, 99, 11]\n",
      "El mayor impar de la lista es:  99\n"
     ]
    },
    {
     "data": {
      "text/plain": [
       "99"
      ]
     },
     "execution_count": 40,
     "metadata": {},
     "output_type": "execute_result"
    }
   ],
   "source": [
    "nums = [2, 4, 7, 10, 15, 9, 6, 21, 41, 80, 99, 11]\n",
    "# 1. Mostrar una lista con todos los impares\n",
    "impares = [] # inicializamos vacío nuestra lista de impares\n",
    "for numero in nums:\n",
    "    # ¿Como sabe mi programa que un numero es impar? ¿Che, numero es impar?\n",
    "    # operador resto (+, -, *, **, %)\n",
    "    if (numero % 2) == 1: # es impar este numero?\n",
    "        # print(\"Numero impar: \", numero)\n",
    "        impares.append(numero) # agrega a la última posicion de la lista impares el valor numero\n",
    "        # print(\"lista de impares: \",impares)\n",
    "\n",
    "print(\"La lista de elementos impares es: \", impares) # tenes todos los valores impares\n",
    "\n",
    "# Quiero el impar más grande\n",
    "# 0. definir una bandera\n",
    "# 1. Recorrer la lista\n",
    "# 2. Comparar si el elemento de mi array es mayor a mi bandera\n",
    "max_impar = 0\n",
    "for impar in impares:\n",
    "    if impar > max_impar:\n",
    "        max_impar = impar # vale 7 en la primera vuelta\n",
    "        \n",
    "print(\"El mayor impar de la lista es: \", max_impar)\n",
    "    \n",
    "max(impares)"
   ]
  },
  {
   "cell_type": "code",
   "execution_count": 43,
   "id": "7b6c7a67",
   "metadata": {},
   "outputs": [
    {
     "data": {
      "text/plain": [
       "'\\n7. Mostrar un vector con las palabras que tienen mas de 4 letras\\nwords = [\"hola\", \"mundo\", \"python\", \"es\", \"genial\"]\\n\\nSalida: [\"mundo\", \"python\", \"genial\"]\\n'"
      ]
     },
     "execution_count": 43,
     "metadata": {},
     "output_type": "execute_result"
    }
   ],
   "source": [
    "\"\"\"\n",
    "7. Mostrar un vector con las palabras que tienen mas de 4 letras\n",
    "words = [\"hola\", \"mundo\", \"python\", \"es\", \"genial\"]\n",
    "\n",
    "Salida: [\"mundo\", \"python\", \"genial\"]\n",
    "\"\"\""
   ]
  },
  {
   "cell_type": "code",
   "execution_count": 44,
   "id": "7b3e27b6",
   "metadata": {},
   "outputs": [],
   "source": [
    "words = [\"hola\", \"mundo\", \"python\", \"es\", \"genial\"]"
   ]
  },
  {
   "cell_type": "code",
   "execution_count": 47,
   "id": "d32f412c",
   "metadata": {},
   "outputs": [
    {
     "name": "stdout",
     "output_type": "stream",
     "text": [
      "['mundo', 'python', 'genial']\n"
     ]
    }
   ],
   "source": [
    "# LVL 2: funcion lambda\n",
    "\n",
    "# 1. Recorrer el vector\n",
    "# 2. Preguntar si la cantidad de letras de la palabra actual es > 4\n",
    "# 3. Guardar la palabra en un nuevo vector\n",
    "# 4. Mostrar el nuevo vector\n",
    "MIN_ELEMENTS = 4\n",
    "palabras = []\n",
    "for word in words:\n",
    "    if len(word) > MIN_ELEMENTS:\n",
    "        palabras.append(word)\n",
    "print(palabras)"
   ]
  },
  {
   "cell_type": "code",
   "execution_count": 48,
   "id": "1fc176f0",
   "metadata": {},
   "outputs": [
    {
     "data": {
      "text/plain": [
       "3"
      ]
     },
     "execution_count": 48,
     "metadata": {},
     "output_type": "execute_result"
    }
   ],
   "source": [
    "len([1,2,3])"
   ]
  },
  {
   "cell_type": "markdown",
   "id": "c419cc04",
   "metadata": {},
   "source": [
    "### Funciones\n",
    "\n",
    "Forman parte de un paradigma llamado programación estructurada. La idea es dividir responsabilidades\n",
    "\n",
    "Una operación o serie de operaciones que se ejecutan cuando se llaman. Dividimos el codigo en bloques pequeños.\n",
    "\n",
    "\n",
    "### Librerias para análisis de datos\n",
    "- Polars / Pandas\n",
    "- Graficos (matplotlib, seaborn, plotly)\n",
    "- Numpy (arrays, matrices, tensores, operaciones algebraicas)\n",
    "- Ecuaciones diferenciales, biologia, electronica"
   ]
  },
  {
   "cell_type": "code",
   "execution_count": 49,
   "id": "206a90a2",
   "metadata": {},
   "outputs": [],
   "source": [
    "# Queremos pedirle al usuario 2 numeros enteros y sumarlos"
   ]
  },
  {
   "cell_type": "code",
   "execution_count": 58,
   "id": "474f366b",
   "metadata": {},
   "outputs": [],
   "source": [
    "def suma():\n",
    "    try:        \n",
    "        v1 = float(input(\"Ingresá el primer numero: \"))\n",
    "        v2 = float(input(\"Ingresá el segundo valor: \"))\n",
    "        suma = v1 + v2\n",
    "        print(suma)\n",
    "    except Exception as e:\n",
    "        print(\"Error -> \", e)\n",
    "        print(\"No puedo sumar esos numeros\")"
   ]
  },
  {
   "cell_type": "code",
   "execution_count": 52,
   "id": "7dec3934",
   "metadata": {},
   "outputs": [
    {
     "name": "stdout",
     "output_type": "stream",
     "text": [
      "Ingresá el primer numero: 20\n",
      "Ingresá el segundo valor: 32\n",
      "52\n"
     ]
    }
   ],
   "source": [
    "suma()"
   ]
  },
  {
   "cell_type": "code",
   "execution_count": 55,
   "id": "f3403cfd",
   "metadata": {},
   "outputs": [
    {
     "name": "stdout",
     "output_type": "stream",
     "text": [
      "Ingresá el primer numero: in\n",
      "Error ->  invalid literal for int() with base 10: 'in'\n",
      "No puedo sumar esos numeros\n"
     ]
    }
   ],
   "source": [
    "suma()"
   ]
  },
  {
   "cell_type": "code",
   "execution_count": 64,
   "id": "d89bac05",
   "metadata": {},
   "outputs": [
    {
     "data": {
      "text/plain": [
       "20.2"
      ]
     },
     "execution_count": 64,
     "metadata": {},
     "output_type": "execute_result"
    }
   ],
   "source": [
    "float(\"20.2\")"
   ]
  },
  {
   "cell_type": "code",
   "execution_count": null,
   "id": "5b7f1e8e",
   "metadata": {},
   "outputs": [],
   "source": [
    "max([20,30,40,-10])"
   ]
  },
  {
   "cell_type": "code",
   "execution_count": 65,
   "id": "b4508ced",
   "metadata": {},
   "outputs": [],
   "source": [
    "# Queremos armar una función que nos devuelve el valor máximo de una lista\n",
    "# 0. Definimos que el primer elemento de la lista sea el valor maximo\n",
    "# 1. Recorremos la lista\n",
    "\n",
    "def custom_max():\n",
    "    lista = [10,20,7,90,1001,8, -10]\n",
    "    max_element = lista[0]\n",
    "    for num in lista:\n",
    "        if num > max_element:\n",
    "            max_element = num\n",
    "    print(f\"El maximo es: {max_element}\")"
   ]
  },
  {
   "cell_type": "code",
   "execution_count": 112,
   "id": "16c4c9d9",
   "metadata": {},
   "outputs": [],
   "source": [
    "def custom_max_with_params(nums):\n",
    "    print(nums)\n",
    "    max_element = nums[0]\n",
    "    for num in nums:\n",
    "        if num > max_element:\n",
    "            max_element = num\n",
    "    print(f\"El maximo es: {max_element}\")"
   ]
  },
  {
   "cell_type": "code",
   "execution_count": 114,
   "id": "8e69d68b",
   "metadata": {},
   "outputs": [
    {
     "name": "stdout",
     "output_type": "stream",
     "text": [
      "[20, 30]\n",
      "El maximo es: 30\n"
     ]
    },
    {
     "data": {
      "text/plain": [
       "NoneType"
      ]
     },
     "execution_count": 114,
     "metadata": {},
     "output_type": "execute_result"
    }
   ],
   "source": [
    "type(custom_max_with_params([20,30]))"
   ]
  },
  {
   "cell_type": "code",
   "execution_count": 66,
   "id": "eed88d91",
   "metadata": {},
   "outputs": [
    {
     "name": "stdout",
     "output_type": "stream",
     "text": [
      "El maximo es: 1001\n"
     ]
    }
   ],
   "source": [
    "custom_max()"
   ]
  },
  {
   "cell_type": "code",
   "execution_count": 72,
   "id": "b8addb81",
   "metadata": {},
   "outputs": [
    {
     "name": "stdout",
     "output_type": "stream",
     "text": [
      "[20, 30, 40, -10, -50, 100]\n",
      "El maximo es: 100\n"
     ]
    }
   ],
   "source": [
    "custom_max_with_params([20,30,40,-10,-50,100])"
   ]
  },
  {
   "cell_type": "code",
   "execution_count": 78,
   "id": "4d1067ef",
   "metadata": {},
   "outputs": [],
   "source": [
    "# Hacer una función que reciba una lista de flotantes y sumar todos los elementos de la lista\n",
    "# Si la lista ingresada en la función tiene más de 100 items, mostrar un error\n",
    "# Una vez que sume todos los elementos de la lista quiero sumarle a ese valor el numero PI"
   ]
  },
  {
   "cell_type": "code",
   "execution_count": 82,
   "id": "958d9c91",
   "metadata": {},
   "outputs": [
    {
     "name": "stdout",
     "output_type": "stream",
     "text": [
      "Se ingresó una palabra\n"
     ]
    }
   ],
   "source": [
    "if len(\"abc\") > 0: # retornar la cantidad de elementos de la palabra \"ab\" RETORNAR != IMPRIMIR\n",
    "    print(\"Se ingresó una palabra\") "
   ]
  },
  {
   "cell_type": "code",
   "execution_count": 117,
   "id": "1a7c7712",
   "metadata": {},
   "outputs": [],
   "source": [
    "def control_list_len(nums):\n",
    "    if len(nums) > 100:\n",
    "        return True\n",
    "    else:\n",
    "        return False\n"
   ]
  },
  {
   "cell_type": "code",
   "execution_count": 103,
   "id": "11837108",
   "metadata": {
    "scrolled": true
   },
   "outputs": [
    {
     "name": "stdout",
     "output_type": "stream",
     "text": [
      "False\n"
     ]
    }
   ],
   "source": [
    "variable = control_list_len([10,20,30])\n",
    "print(variable)"
   ]
  },
  {
   "cell_type": "code",
   "execution_count": 104,
   "id": "e1cdec5e",
   "metadata": {},
   "outputs": [],
   "source": [
    "def sum_items(nums):\n",
    "    is_greater_than_100 = control_list_len(nums) # True / False\n",
    "    if is_greater_than_100 == True:\n",
    "        print(\"Error, no se admiten listas de más de 100 elementos\")\n",
    "    else:\n",
    "        sum_value = 0\n",
    "        for num in nums:\n",
    "            sum_value = sum_value + num # acumulador sum_value += num\n",
    "        return sum_value"
   ]
  },
  {
   "cell_type": "code",
   "execution_count": 116,
   "id": "5976952a",
   "metadata": {},
   "outputs": [
    {
     "data": {
      "text/plain": [
       "55"
      ]
     },
     "execution_count": 116,
     "metadata": {},
     "output_type": "execute_result"
    }
   ],
   "source": [
    "sum_items([1,2,3,4,5,6,7,8,9,10])"
   ]
  },
  {
   "cell_type": "code",
   "execution_count": 107,
   "id": "a414c99f",
   "metadata": {},
   "outputs": [
    {
     "data": {
      "text/plain": [
       "58.14"
      ]
     },
     "execution_count": 107,
     "metadata": {},
     "output_type": "execute_result"
    }
   ],
   "source": [
    "PI = 3.14\n",
    "PI + sum_items([1,2,3,4,5,6,7,8,9,10])"
   ]
  },
  {
   "cell_type": "code",
   "execution_count": 108,
   "id": "f3bfd155",
   "metadata": {},
   "outputs": [],
   "source": [
    "import math"
   ]
  },
  {
   "cell_type": "code",
   "execution_count": 110,
   "id": "cf7d9cc9",
   "metadata": {},
   "outputs": [
    {
     "data": {
      "text/plain": [
       "3.141592653589793"
      ]
     },
     "execution_count": 110,
     "metadata": {},
     "output_type": "execute_result"
    }
   ],
   "source": [
    "math.pi"
   ]
  },
  {
   "cell_type": "code",
   "execution_count": 111,
   "id": "64d4f8f7",
   "metadata": {},
   "outputs": [
    {
     "data": {
      "text/plain": [
       "58.1415926535898"
      ]
     },
     "execution_count": 111,
     "metadata": {},
     "output_type": "execute_result"
    }
   ],
   "source": [
    "math.pi + sum_items([1,2,3,4,5,6,7,8,9,10])"
   ]
  }
 ],
 "metadata": {
  "kernelspec": {
   "display_name": "Python 3 (ipykernel)",
   "language": "python",
   "name": "python3"
  },
  "language_info": {
   "codemirror_mode": {
    "name": "ipython",
    "version": 3
   },
   "file_extension": ".py",
   "mimetype": "text/x-python",
   "name": "python",
   "nbconvert_exporter": "python",
   "pygments_lexer": "ipython3",
   "version": "3.10.11"
  }
 },
 "nbformat": 4,
 "nbformat_minor": 5
}
